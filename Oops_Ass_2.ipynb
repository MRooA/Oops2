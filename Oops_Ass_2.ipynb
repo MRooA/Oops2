{
 "cells": [
  {
   "cell_type": "code",
   "execution_count": 1,
   "id": "ccede8ad-efd8-45d9-8885-8e634185ebd4",
   "metadata": {},
   "outputs": [
    {
     "data": {
      "text/plain": [
       "\"Q1. What is Abstraction in OOps? Explain with an example.\\n\\nObject-Oriented Programming (OOP) that lets you focus on the essential features of an object while hiding the complex\\ndetails. Think of it like using a remote control for your TV. You don't need to know how the TV works internally to\\nchange the channel or volume; you just use the buttons on the remote.\\n\\nLet's take an example: imagine you're designing a system for a car rental company. You have different types of cars:\\nsedans, SUVs, and trucks. Each car has some common features like start, stop, accelerate, and brake. But, they also\\nhave specific features, like the number of seats or cargo space.\\n\""
      ]
     },
     "execution_count": 1,
     "metadata": {},
     "output_type": "execute_result"
    }
   ],
   "source": [
    "'''Q1. What is Abstraction in OOps? Explain with an example.\n",
    "\n",
    "Object-Oriented Programming (OOP) that lets you focus on the essential features of an object while hiding the complex\n",
    "details. Think of it like using a remote control for your TV. You don't need to know how the TV works internally to\n",
    "change the channel or volume; you just use the buttons on the remote.\n",
    "\n",
    "Let's take an example: imagine you're designing a system for a car rental company. You have different types of cars:\n",
    "sedans, SUVs, and trucks. Each car has some common features like start, stop, accelerate, and brake. But, they also\n",
    "have specific features, like the number of seats or cargo space.\n",
    "'''"
   ]
  },
  {
   "cell_type": "code",
   "execution_count": 3,
   "id": "74ef47d4-5b26-4ca9-8f70-7a1fc975f292",
   "metadata": {},
   "outputs": [
    {
     "data": {
      "text/plain": [
       "'Q2. Differentiate between Abstraction and Encapsulation. Explain with an example.\\n\\nAbstraction and Encapsulation are like two sides of the same coin, working together to make your\\ncode more manageable and robust\\n\\nExplain:\\nAbstraction: The Car class defines the essential features like start, stop, accelerate, and brake without specifying \\nhow they work.\\n\\nEncapsulation: Each concrete class like Sedan, SUV, and Truck encapsulates its specific implementation details for \\nthese features. For example, the Sedan class might have a private variable to store the number of seats, which can \\nonly be accessed through getter and setter methods.\\n\\nIn short:\\nAbstraction simplifies the interface by hiding unnecessary details.\\nEncapsulation protects the internal state of an object by controlling access to its data.\\n'"
      ]
     },
     "execution_count": 3,
     "metadata": {},
     "output_type": "execute_result"
    }
   ],
   "source": [
    "'''Q2. Differentiate between Abstraction and Encapsulation. Explain with an example.\n",
    "\n",
    "Abstraction and Encapsulation are like two sides of the same coin, working together to make your\n",
    "code more manageable and robust\n",
    "\n",
    "Explain:\n",
    "Abstraction: The Car class defines the essential features like start, stop, accelerate, and brake without specifying \n",
    "how they work.\n",
    "\n",
    "Encapsulation: Each concrete class like Sedan, SUV, and Truck encapsulates its specific implementation details for \n",
    "these features. For example, the Sedan class might have a private variable to store the number of seats, which can \n",
    "only be accessed through getter and setter methods.\n",
    "\n",
    "In short:\n",
    "Abstraction simplifies the interface by hiding unnecessary details.\n",
    "Encapsulation protects the internal state of an object by controlling access to its data.\n",
    "'''"
   ]
  },
  {
   "cell_type": "code",
   "execution_count": 5,
   "id": "e8901185-972b-4cf4-8549-cfa5e8f8722b",
   "metadata": {},
   "outputs": [
    {
     "name": "stdout",
     "output_type": "stream",
     "text": [
      "Bark\n",
      "Meow\n"
     ]
    }
   ],
   "source": [
    "'''Q3. What is abc module in python? Why is it used?\n",
    "\n",
    "The abc module provides the infrastructure for defining abstract base classes in Python.\n",
    "\n",
    "Why is it used?\n",
    "The abc module is used for several reasons:\n",
    "\n",
    "Enforcing Method Implementation: It ensures that subclasses implement specific methods, promoting a consistent \n",
    "interface across different classes.\n",
    "Code Organization: By using abstract classes, you can organize your code better, making it easier to manage and \n",
    "understand.\n",
    "Polymorphism: It allows for polymorphic behavior, where different classes can be treated as instances of the same base\n",
    "class, as long as they implement the required methods.\n",
    "\n",
    "Example:'\n",
    "'''\n",
    "from abc import ABC, abstractmethod\n",
    "\n",
    "class Animal(ABC):\n",
    "    @abstractmethod\n",
    "    def sound(self):\n",
    "        pass\n",
    "\n",
    "class Dog(Animal):\n",
    "    def sound(self):\n",
    "        return \"Bark\"\n",
    "\n",
    "class Cat(Animal):\n",
    "    def sound(self):\n",
    "        return \"Meow\"\n",
    "\n",
    "# Creating instances\n",
    "dog = Dog()\n",
    "cat = Cat()\n",
    "\n",
    "print(dog.sound())  # Output: Bark\n",
    "print(cat.sound())  # Output: Meow\n"
   ]
  },
  {
   "cell_type": "code",
   "execution_count": 7,
   "id": "d4de9ccd-38b7-4e38-b523-2dfd0aa627cb",
   "metadata": {},
   "outputs": [
    {
     "name": "stdout",
     "output_type": "stream",
     "text": [
      "Account holder: Alice\n",
      "Current balance: 1000\n",
      "Deposit successful. New balance: 1500\n",
      "Withdrawal successful. New balance: 1300\n"
     ]
    }
   ],
   "source": [
    "'''Q4. How can we achieve data abstraction?\n",
    "\n",
    "Data abstraction is all about hiding complex details and presenting a simplified view of an object. We use classes and\n",
    "access modifiers to accomplish this.\n",
    "\n",
    "Here's a step-by-step :\n",
    "\n",
    "Define a Class: Create a class to represent the object you want to abstract. This class will hold the data and methods\n",
    "related to the object.\n",
    "Encapsulate Data: Declare the data members (attributes) of the class as private using the __ prefix. This makes them \n",
    "inaccessible from outside the class.\n",
    "Provide Access Methods: Create getter and setter methods (also known as accessor and mutator methods) to control \n",
    "access to the private data members. These methods will provide a controlled way to interact with the data.\n",
    "\n",
    "Example: Let's say we want to abstract a bank account:'''\n",
    "class BankAccount:\n",
    "    def __init__(self, name, balance):\n",
    "        self.__name = name  # Private attribute\n",
    "        self.__balance = balance\n",
    "\n",
    "    def get_name(self):\n",
    "        return self.__name\n",
    "\n",
    "    def get_balance(self):\n",
    "        return self.__balance\n",
    "\n",
    "    def deposit(self, amount):\n",
    "        self.__balance += amount\n",
    "        print(\"Deposit successful. New balance:\", self.__balance)\n",
    "\n",
    "    def withdraw(self, amount):\n",
    "        if self.__balance >= amount:\n",
    "            self.__balance -= amount\n",
    "            print(\"Withdrawal successful. New balance:\", self.__balance)\n",
    "        else:\n",
    "            print(\"Insufficient funds.\")\n",
    "\n",
    "# Creating an instance\n",
    "account = BankAccount(\"Alice\", 1000)\n",
    "\n",
    "# Accessing data through methods\n",
    "print(\"Account holder:\", account.get_name())\n",
    "print(\"Current balance:\", account.get_balance())\n",
    "\n",
    "# Depositing money\n",
    "account.deposit(500)\n",
    "\n",
    "# Withdrawing money\n",
    "account.withdraw(200)\n"
   ]
  },
  {
   "cell_type": "code",
   "execution_count": 11,
   "id": "15e001f2-6a4f-4fc7-b13b-3abd1851bffc",
   "metadata": {},
   "outputs": [
    {
     "name": "stdout",
     "output_type": "stream",
     "text": [
      "50\n"
     ]
    }
   ],
   "source": [
    "'''Q5. Can we create an instance of an abstract class? Explain your answer.\n",
    "\n",
    "The short answer is no, you cannot directly create an instance of an abstract class.\n",
    "Here's why:\n",
    "Abstract classes are blueprints: They define a common interface or structure for a group of related classes. They act\n",
    "as templates that you can't directly use.Abstract methods need implementation: Abstract classes often contain abstract\n",
    "methods, which are methods without a concrete implementation. These methods are meant to be implemented by subclasses.\n",
    "Incomplete definition: Since abstract classes have incomplete definitions (due to abstract methods), they cannot be\n",
    "instantiated.\n",
    "Example:\n",
    "'''\n",
    "from abc import ABC, abstractmethod\n",
    "\n",
    "class Shape(ABC):  # Abstract base class\n",
    "    @abstractmethod\n",
    "    def area(self):\n",
    "        pass\n",
    "\n",
    "# Attempting to create an instance of the abstract class\n",
    "# shape = Shape()  # This will raise a TypeError\n",
    "\n",
    "# Creating a subclass that implements the abstract method\n",
    "class Rectangle(Shape):\n",
    "    def __init__(self, width, height):\n",
    "        self.width = width\n",
    "        self.height = height\n",
    "\n",
    "    def area(self):\n",
    "        return self.width * self.height\n",
    "\n",
    "# Creating an instance of the concrete subclass\n",
    "rectangle = Rectangle(5, 10)\n",
    "print(rectangle.area())  # Output: 50\n"
   ]
  },
  {
   "cell_type": "code",
   "execution_count": null,
   "id": "30de96f8-a73b-4699-83b6-d23090ef6756",
   "metadata": {},
   "outputs": [],
   "source": []
  }
 ],
 "metadata": {
  "kernelspec": {
   "display_name": "Python 3 (ipykernel)",
   "language": "python",
   "name": "python3"
  },
  "language_info": {
   "codemirror_mode": {
    "name": "ipython",
    "version": 3
   },
   "file_extension": ".py",
   "mimetype": "text/x-python",
   "name": "python",
   "nbconvert_exporter": "python",
   "pygments_lexer": "ipython3",
   "version": "3.12.7"
  }
 },
 "nbformat": 4,
 "nbformat_minor": 5
}
